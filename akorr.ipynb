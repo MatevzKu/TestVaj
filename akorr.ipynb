# -*- coding: utf-8 -*-
"""
Created on Thu Nov  8 14:28:57 2018

@author: matev
"""
import numpy as np
import matplotlib.pyplot as plt
import pandas as pd
plt.close("all")
def akor(x,tau):
    nx = len(x)
    Rxx = []
    for i in range(tau-1):
        Rxx.append(np.sum(np.multiply(x[1:nx-i],x[1+i:nx]))/(nx-i))
    return Rxx

def zakasnitev(signal,tau):
    del_sig = np.multiply(signal[1:(len(signal)-tau)],signal[1+tau:])
    cum_int = np.cumsum(del_sig)/len(del_sig)
    return del_sig,cum_int

#### Priprava signala    

Ns=200 #število pulzov
M=10  #število vzorcev na pulz  

rnd=np.sign(np.random.uniform(-1,1,Ns)) #generiram random signal
sig = []
for i in range(Ns):
    for j in range(10):
        sig.append(rnd[i])     
a = pd.Series(sig) #konverzija v pandas za izračun avtokorelacije


#### Samodejna avtokorelacija

ak = []
for k in range(150):
    ak.append(a.autocorr(k))
    
#### Zakasnjeni signali - dokaz da z večanjem zamika signal / ak pada proti nič

plt.plot(ak) # np korelacija
plt.plot(akor(sig,150)) #naša korelacija
plt.legend(["numpy","naša"])
plt.title("Avtokorelacijska funkcija")
 
plt.figure()
x1,sx1 = zakasnitev(sig,0)
plt.plot(x1)
plt.plot(sx1)
plt.title("Nezakasnjeno")

plt.figure()
x2,sx2 = zakasnitev(sig,5)
plt.plot(x2)
plt.plot(sx2)
plt.title("Zakasnjeno manj kot perioda")

plt.figure()
x3,sx3 = zakasnitev(sig,50)
plt.plot(x3)
plt.plot(sx3)
plt.title("Zakasnjeno za več kot periodo")